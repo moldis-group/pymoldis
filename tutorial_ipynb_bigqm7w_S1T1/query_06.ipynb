{
 "cells": [
  {
   "cell_type": "code",
   "execution_count": 1,
   "id": "e372d4a0-9df2-4fe5-b13f-be660638c397",
   "metadata": {},
   "outputs": [],
   "source": [
    "import pymoldis\n",
    "\n",
    "df=pymoldis.get_data('bigqm7w_S1T1')"
   ]
  },
  {
   "cell_type": "code",
   "execution_count": 2,
   "id": "0681b814-e85b-4df4-a6c3-3bd3de11612b",
   "metadata": {},
   "outputs": [
    {
     "name": "stdout",
     "output_type": "stream",
     "text": [
      "15\n",
      "Mol_002232.xyz\n",
      "C     1.16551200     0.75720200    -0.00000400\n",
      "C     1.07023400    -0.80010900     0.00000300\n",
      "N    -0.39240300    -1.04289800     0.00000500\n",
      "C    -0.82255300    -0.01894200     1.01610000\n",
      "C    -0.33864800     1.03267300    -0.00000400\n",
      "C    -0.82255400    -0.01895100    -1.01609900\n",
      "H     1.66444500     1.15390500    -0.88491300\n",
      "H     1.66444600     1.15391200     0.88490200\n",
      "H     1.51620400    -1.25541900     0.88379500\n",
      "H     1.51620300    -1.25542600    -0.88378600\n",
      "H    -0.32334700    -0.08922200     1.98477500\n",
      "H    -1.90392100    -0.04919600     1.14389800\n",
      "H    -0.67188200     2.06893800    -0.00000900\n",
      "H    -0.32334800    -0.08923900    -1.98477400\n",
      "H    -1.90392200    -0.04920600    -1.14389600\n"
     ]
    }
   ],
   "source": [
    "index=2232\n",
    "xyzfile='Mol_002232.xyz' # The XYZ will also be stored in this file\n",
    "pymoldis.makexyz(index,df,xyzfile)"
   ]
  },
  {
   "cell_type": "code",
   "execution_count": null,
   "id": "13a86888-aea2-4563-9536-a128a7fb1f5c",
   "metadata": {},
   "outputs": [],
   "source": []
  }
 ],
 "metadata": {
  "kernelspec": {
   "display_name": "Python 3 (ipykernel)",
   "language": "python",
   "name": "python3"
  },
  "language_info": {
   "codemirror_mode": {
    "name": "ipython",
    "version": 3
   },
   "file_extension": ".py",
   "mimetype": "text/x-python",
   "name": "python",
   "nbconvert_exporter": "python",
   "pygments_lexer": "ipython3",
   "version": "3.10.12"
  }
 },
 "nbformat": 4,
 "nbformat_minor": 5
}
