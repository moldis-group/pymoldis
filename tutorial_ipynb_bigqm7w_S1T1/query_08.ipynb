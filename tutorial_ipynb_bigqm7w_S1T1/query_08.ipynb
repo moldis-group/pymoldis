{
 "cells": [
  {
   "cell_type": "code",
   "execution_count": 1,
   "id": "cb5e9872-0ab9-4605-a840-24cbca608ac0",
   "metadata": {},
   "outputs": [
    {
     "name": "stdout",
     "output_type": "stream",
     "text": [
      "                   SMI  S1_SCSPBEQIDH(eV)  T1_SCSPBEQIDH(eV)  \\\n",
      "12464   'N1C=CN=NC=N1'              2.677              1.835   \n",
      "2283        'c1nncnn1'              2.513              1.831   \n",
      "7830       'Oc1nncnn1'              2.528              1.863   \n",
      "7829       'Nc1nncnn1'              2.532              1.874   \n",
      "7828       'Cc1nncnn1'              2.456              1.789   \n",
      "7650   'N=c1nncn[nH]1'              2.636              1.894   \n",
      "7674      'N=c1nncno1'              2.561              1.813   \n",
      "7666      'N=c1nncco1'              2.939              2.144   \n",
      "7651   'O=c1nncn[nH]1'              2.366              1.672   \n",
      "7675      'O=c1nncno1'              2.290              1.578   \n",
      "\n",
      "       f01_SCSPBEQIDH(au)  \n",
      "12464            0.012447  \n",
      "2283             0.009638  \n",
      "7830             0.009556  \n",
      "7829             0.009373  \n",
      "7828             0.009014  \n",
      "7650             0.006721  \n",
      "7674             0.005766  \n",
      "7666             0.005710  \n",
      "7651             0.005283  \n",
      "7675             0.004827  \n"
     ]
    }
   ],
   "source": [
    "import pymoldis\n",
    "\n",
    "df=pymoldis.get_data('bigqm7w_S1T1')\n",
    "\n",
    "sorted_osc_str=df.sort_values(by='f01_SCSPBEQIDH(au)', ascending=False)\n",
    "filtered_values=sorted_osc_str[sorted_osc_str['S1_SCSPBEQIDH(eV)'] <= 3]\n",
    "\n",
    "print(filtered_values[['SMI','S1_SCSPBEQIDH(eV)','T1_SCSPBEQIDH(eV)','f01_SCSPBEQIDH(au)']].head(10))"
   ]
  },
  {
   "cell_type": "code",
   "execution_count": null,
   "id": "c54fe454-6d1a-4634-9593-25ff18c6273a",
   "metadata": {},
   "outputs": [],
   "source": []
  },
  {
   "cell_type": "code",
   "execution_count": null,
   "id": "85f03fe9-df6a-4466-a807-4562c6257036",
   "metadata": {},
   "outputs": [],
   "source": []
  }
 ],
 "metadata": {
  "kernelspec": {
   "display_name": "Python 3 (ipykernel)",
   "language": "python",
   "name": "python3"
  },
  "language_info": {
   "codemirror_mode": {
    "name": "ipython",
    "version": 3
   },
   "file_extension": ".py",
   "mimetype": "text/x-python",
   "name": "python",
   "nbconvert_exporter": "python",
   "pygments_lexer": "ipython3",
   "version": "3.9.13"
  }
 },
 "nbformat": 4,
 "nbformat_minor": 5
}
