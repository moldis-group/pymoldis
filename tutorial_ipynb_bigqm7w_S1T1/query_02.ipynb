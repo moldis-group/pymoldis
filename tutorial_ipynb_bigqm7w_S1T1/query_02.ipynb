{
 "cells": [
  {
   "cell_type": "code",
   "execution_count": 1,
   "id": "a96d31d1-656d-4304-b8b7-1e81492ff798",
   "metadata": {},
   "outputs": [],
   "source": [
    "import pymoldis\n",
    "import pandas as pd\n",
    "\n",
    "df=pymoldis.get_data('bigqm7w_S1T1')"
   ]
  },
  {
   "cell_type": "code",
   "execution_count": 2,
   "id": "762f7de0-39d3-48fc-bdf8-32b0295c4f32",
   "metadata": {},
   "outputs": [],
   "source": [
    "diff_S1=df['S1_SCSPBEQIDH(eV)']-df['S1_ADC2(eV)'] \n",
    "diff_T1=df['T1_SCSPBEQIDH(eV)']-df['T1_ADC2(eV)'] \n",
    "diff_S1T1=(df['S1_SCSPBEQIDH(eV)']-df['T1_SCSPBEQIDH(eV)'])-(df['S1_ADC2(eV)'] -df['T1_ADC2(eV)'] )"
   ]
  },
  {
   "cell_type": "code",
   "execution_count": 3,
   "id": "515a8fd4-8945-4d81-9fc8-9208bc23b786",
   "metadata": {},
   "outputs": [
    {
     "data": {
      "text/html": [
       "<div>\n",
       "<style scoped>\n",
       "    .dataframe tbody tr th:only-of-type {\n",
       "        vertical-align: middle;\n",
       "    }\n",
       "\n",
       "    .dataframe tbody tr th {\n",
       "        vertical-align: top;\n",
       "    }\n",
       "\n",
       "    .dataframe thead th {\n",
       "        text-align: right;\n",
       "    }\n",
       "</style>\n",
       "<table border=\"1\" class=\"dataframe\">\n",
       "  <thead>\n",
       "    <tr style=\"text-align: right;\">\n",
       "      <th></th>\n",
       "      <th>Delta S1 (DFT-ADC2) (eV)</th>\n",
       "      <th>Delta T1(DFT-ADC2) (eV)</th>\n",
       "      <th>Deta S1T1 (DFT-ADC2) (eV)</th>\n",
       "    </tr>\n",
       "  </thead>\n",
       "  <tbody>\n",
       "    <tr>\n",
       "      <th>count</th>\n",
       "      <td>12879.000000</td>\n",
       "      <td>12879.000000</td>\n",
       "      <td>12879.000000</td>\n",
       "    </tr>\n",
       "    <tr>\n",
       "      <th>mean</th>\n",
       "      <td>0.206861</td>\n",
       "      <td>-0.019700</td>\n",
       "      <td>0.226561</td>\n",
       "    </tr>\n",
       "    <tr>\n",
       "      <th>std</th>\n",
       "      <td>0.170101</td>\n",
       "      <td>0.199748</td>\n",
       "      <td>0.196457</td>\n",
       "    </tr>\n",
       "    <tr>\n",
       "      <th>min</th>\n",
       "      <td>-0.383320</td>\n",
       "      <td>-0.746130</td>\n",
       "      <td>-0.249989</td>\n",
       "    </tr>\n",
       "    <tr>\n",
       "      <th>25%</th>\n",
       "      <td>0.109476</td>\n",
       "      <td>-0.158107</td>\n",
       "      <td>0.069795</td>\n",
       "    </tr>\n",
       "    <tr>\n",
       "      <th>50%</th>\n",
       "      <td>0.200098</td>\n",
       "      <td>-0.053379</td>\n",
       "      <td>0.211206</td>\n",
       "    </tr>\n",
       "    <tr>\n",
       "      <th>75%</th>\n",
       "      <td>0.302947</td>\n",
       "      <td>0.087925</td>\n",
       "      <td>0.354126</td>\n",
       "    </tr>\n",
       "    <tr>\n",
       "      <th>max</th>\n",
       "      <td>1.039420</td>\n",
       "      <td>0.931055</td>\n",
       "      <td>1.295653</td>\n",
       "    </tr>\n",
       "  </tbody>\n",
       "</table>\n",
       "</div>"
      ],
      "text/plain": [
       "       Delta S1 (DFT-ADC2) (eV)  Delta T1(DFT-ADC2) (eV)  \\\n",
       "count              12879.000000             12879.000000   \n",
       "mean                   0.206861                -0.019700   \n",
       "std                    0.170101                 0.199748   \n",
       "min                   -0.383320                -0.746130   \n",
       "25%                    0.109476                -0.158107   \n",
       "50%                    0.200098                -0.053379   \n",
       "75%                    0.302947                 0.087925   \n",
       "max                    1.039420                 0.931055   \n",
       "\n",
       "       Deta S1T1 (DFT-ADC2) (eV)  \n",
       "count               12879.000000  \n",
       "mean                    0.226561  \n",
       "std                     0.196457  \n",
       "min                    -0.249989  \n",
       "25%                     0.069795  \n",
       "50%                     0.211206  \n",
       "75%                     0.354126  \n",
       "max                     1.295653  "
      ]
     },
     "execution_count": 3,
     "metadata": {},
     "output_type": "execute_result"
    }
   ],
   "source": [
    "diff=pd.concat([diff_S1, diff_T1, diff_S1T1],axis=1)\n",
    "diff.columns=['Delta S1 (DFT-ADC2) (eV)','Delta T1(DFT-ADC2) (eV)','Deta S1T1 (DFT-ADC2) (eV)']\n",
    "diff.describe()"
   ]
  },
  {
   "cell_type": "code",
   "execution_count": null,
   "id": "e4652fc0-1a31-4fb3-8712-3b54ef4d193f",
   "metadata": {},
   "outputs": [],
   "source": []
  }
 ],
 "metadata": {
  "kernelspec": {
   "display_name": "Python 3 (ipykernel)",
   "language": "python",
   "name": "python3"
  },
  "language_info": {
   "codemirror_mode": {
    "name": "ipython",
    "version": 3
   },
   "file_extension": ".py",
   "mimetype": "text/x-python",
   "name": "python",
   "nbconvert_exporter": "python",
   "pygments_lexer": "ipython3",
   "version": "3.9.13"
  }
 },
 "nbformat": 4,
 "nbformat_minor": 5
}
