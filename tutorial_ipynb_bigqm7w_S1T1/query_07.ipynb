{
 "cells": [
  {
   "cell_type": "code",
   "execution_count": 1,
   "id": "20be350a-2266-4479-93d3-69c586285b7f",
   "metadata": {},
   "outputs": [
    {
     "name": "stdout",
     "output_type": "stream",
     "text": [
      "       S1_ADC2(eV)  T1_ADC2(eV)  f01_ADC2(au)\n",
      "count    29.000000    29.000000     29.000000\n",
      "mean      2.917751     2.554014      0.000651\n",
      "std       0.046181     0.058709      0.001818\n",
      "min       2.806677     2.501329      0.000000\n",
      "25%       2.882445     2.509465      0.000070\n",
      "50%       2.925369     2.530179      0.000166\n",
      "75%       2.952525     2.572719      0.000287\n",
      "max       2.984915     2.712730      0.009470\n"
     ]
    }
   ],
   "source": [
    "import pymoldis\n",
    "\n",
    "df=pymoldis.get_data('bigqm7w_S1T1')\n",
    "\n",
    "lower_bound=2.5\n",
    "upper_bound=3.0\n",
    "\n",
    "filtered_df=df[(df['S1_ADC2(eV)'] >= lower_bound) & (df['S1_ADC2(eV)'] <= upper_bound) & \n",
    "                 (df['T1_ADC2(eV)'] >= lower_bound) & (df['T1_ADC2(eV)'] <= upper_bound)]\n",
    "\n",
    "filtered_df=filtered_df[['SMI','S1_ADC2(eV)','T1_ADC2(eV)','f01_ADC2(au)']]\n",
    "\n",
    "print(filtered_df.describe())"
   ]
  },
  {
   "cell_type": "code",
   "execution_count": 2,
   "id": "584500d3-96c5-474c-8aac-7583bc124ba9",
   "metadata": {},
   "outputs": [],
   "source": [
    "#uncomment the next line to see the full list\n",
    "#filtered_df"
   ]
  },
  {
   "cell_type": "code",
   "execution_count": null,
   "id": "fcbab390-7892-4c6b-a8a5-7dd23e58525d",
   "metadata": {},
   "outputs": [],
   "source": []
  }
 ],
 "metadata": {
  "kernelspec": {
   "display_name": "Python 3 (ipykernel)",
   "language": "python",
   "name": "python3"
  },
  "language_info": {
   "codemirror_mode": {
    "name": "ipython",
    "version": 3
   },
   "file_extension": ".py",
   "mimetype": "text/x-python",
   "name": "python",
   "nbconvert_exporter": "python",
   "pygments_lexer": "ipython3",
   "version": "3.10.12"
  }
 },
 "nbformat": 4,
 "nbformat_minor": 5
}
