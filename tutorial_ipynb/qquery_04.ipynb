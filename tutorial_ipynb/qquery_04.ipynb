{
 "cells": [
  {
   "cell_type": "code",
   "execution_count": 1,
   "id": "f367df1a-0e36-4fe4-a32c-06e33542b78f",
   "metadata": {},
   "outputs": [
    {
     "name": "stdout",
     "output_type": "stream",
     "text": [
      "                   SMI  S1-T1(eV)\n",
      "6449     'CCC1(C)CN1C'     -0.054\n",
      "9153     'OC1CC2CN2C1'     -0.046\n",
      "900       'CN1CC1(C)C'     -0.024\n",
      "12679    'CC1CCC2CN12'     -0.019\n",
      "9675     'CCC1(CF)CC1'     -0.012\n",
      "12783    'CC1C2CCN1C2'     -0.008\n",
      "12675    'CC1CCN2CC12'     -0.003\n",
      "6451     'CN1CC1(C)CO'      0.011\n",
      "2232      'C1CN2CC1C2'      0.012\n",
      "9204     'CC1CC2CN1C2'      0.017\n",
      "3692     'CCN1CC1(C)C'      0.023\n",
      "2154        'CCC1CN1C'      0.028\n",
      "9122   'C1CC2CN(C1)C2'      0.028\n",
      "2204      'CC(C)N1CC1'      0.031\n",
      "12809  'C1C2C3CN1CC23'      0.031\n"
     ]
    }
   ],
   "source": [
    "import pymoldis\n",
    "import pandas as pd\n",
    "\n",
    "df=pymoldis.get_data('bigqm7w_S1T1')\n",
    "\n",
    "S1T1_DFT=df['S1_SCSPBEQIDH(eV)'] - df['T1_SCSPBEQIDH(eV)']\n",
    "\n",
    "NEntries=15\n",
    "\n",
    "SmallGap_DFT_vals=S1T1_DFT.nsmallest(NEntries) \n",
    "\n",
    "SMIs=df.iloc[SmallGap_DFT_vals.index]['SMI']\n",
    "\n",
    "result = pd.concat([SMIs, SmallGap_DFT_vals], axis=1)\n",
    "result.columns = ['SMI','S1-T1(eV)']\n",
    "print(result)"
   ]
  },
  {
   "cell_type": "code",
   "execution_count": null,
   "id": "19546854-bd25-44aa-940b-d151d891c6e2",
   "metadata": {},
   "outputs": [],
   "source": []
  }
 ],
 "metadata": {
  "kernelspec": {
   "display_name": "Python 3 (ipykernel)",
   "language": "python",
   "name": "python3"
  },
  "language_info": {
   "codemirror_mode": {
    "name": "ipython",
    "version": 3
   },
   "file_extension": ".py",
   "mimetype": "text/x-python",
   "name": "python",
   "nbconvert_exporter": "python",
   "pygments_lexer": "ipython3",
   "version": "3.10.12"
  }
 },
 "nbformat": 4,
 "nbformat_minor": 5
}
