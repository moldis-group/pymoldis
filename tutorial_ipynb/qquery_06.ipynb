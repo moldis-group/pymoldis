{
 "cells": [
  {
   "cell_type": "code",
   "execution_count": 1,
   "id": "e372d4a0-9df2-4fe5-b13f-be660638c397",
   "metadata": {},
   "outputs": [],
   "source": [
    "import pymoldis\n",
    "\n",
    "df=pymoldis.get_data('bigqm7w_S1T1')"
   ]
  },
  {
   "cell_type": "code",
   "execution_count": 2,
   "id": "0681b814-e85b-4df4-a6c3-3bd3de11612b",
   "metadata": {},
   "outputs": [
    {
     "name": "stdout",
     "output_type": "stream",
     "text": [
      "4\n",
      "Mol_002232.xyz\n",
      "N     0.00000200    -0.00000000     0.11046300\n",
      "H     0.15411100     0.92909200    -0.25775800\n",
      "H     0.72756300    -0.59801100    -0.25775700\n",
      "H    -0.88168700    -0.33107800    -0.25772800\n"
     ]
    }
   ],
   "source": [
    "index=2232\n",
    "xyzfile='Mol_002232.xyz' # The XYZ will also be stored in this file\n",
    "index=1\n",
    "pymoldis.makexyz(index,df,xyzfile)"
   ]
  },
  {
   "cell_type": "code",
   "execution_count": null,
   "id": "13a86888-aea2-4563-9536-a128a7fb1f5c",
   "metadata": {},
   "outputs": [],
   "source": []
  }
 ],
 "metadata": {
  "kernelspec": {
   "display_name": "Python 3 (ipykernel)",
   "language": "python",
   "name": "python3"
  },
  "language_info": {
   "codemirror_mode": {
    "name": "ipython",
    "version": 3
   },
   "file_extension": ".py",
   "mimetype": "text/x-python",
   "name": "python",
   "nbconvert_exporter": "python",
   "pygments_lexer": "ipython3",
   "version": "3.10.12"
  }
 },
 "nbformat": 4,
 "nbformat_minor": 5
}
