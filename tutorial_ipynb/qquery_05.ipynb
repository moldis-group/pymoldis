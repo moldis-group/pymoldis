{
 "cells": [
  {
   "cell_type": "code",
   "execution_count": 1,
   "id": "1a5d672f-2aad-4a23-b28e-25ca403f8b81",
   "metadata": {},
   "outputs": [],
   "source": [
    "import pymoldis\n",
    "import pandas as pd\n",
    "\n",
    "df=pymoldis.get_data('bigqm7w_S1T1')"
   ]
  },
  {
   "cell_type": "markdown",
   "id": "b39a685b-64ce-42f0-8cc7-3eb498afc478",
   "metadata": {},
   "source": [
    "# Find molecules with the least S1-T1 gap in DFT and ADC2"
   ]
  },
  {
   "cell_type": "code",
   "execution_count": 2,
   "id": "be098366-3711-44e1-a93e-8810949b409f",
   "metadata": {},
   "outputs": [],
   "source": [
    "diff_dft=df['S1_SCSPBEQIDH(eV)'] - df['T1_SCSPBEQIDH(eV)']\n",
    "diff_adc2=df['S1_ADC2(eV)'] - df['T1_ADC2(eV)']\n",
    "\n",
    "N_smallest=5\n",
    "entries_dft=df.iloc[diff_dft.abs().nsmallest(N_smallest).index]\n",
    "entries_adc2=df.iloc[diff_adc2.abs().nsmallest(N_smallest).index]"
   ]
  },
  {
   "cell_type": "markdown",
   "id": "ae4b46c0-791e-444d-94ef-f722b51122f5",
   "metadata": {},
   "source": [
    "# Union of both sets"
   ]
  },
  {
   "cell_type": "code",
   "execution_count": 3,
   "id": "9fb4cbe4-f9a6-4daa-99ab-be7f160be25d",
   "metadata": {},
   "outputs": [
    {
     "name": "stdout",
     "output_type": "stream",
     "text": [
      "                   SMI\n",
      "12675    'CC1CCN2CC12'\n",
      "12783    'CC1C2CCN1C2'\n",
      "6451     'CN1CC1(C)CO'\n",
      "2232      'C1CN2CC1C2'\n",
      "9675     'CCC1(CF)CC1'\n",
      "12810  'C1C2CC3C1N3C2'\n",
      "2674   'CC1(C)OC1(C)C'\n",
      "9204     'CC1CC2CN1C2'\n",
      "9151     'CC1CC2CN2C1'\n"
     ]
    }
   ],
   "source": [
    "union_df=pd.concat([entries_dft, entries_adc2]).drop_duplicates()\n",
    "print(union_df[['SMI']])"
   ]
  },
  {
   "cell_type": "markdown",
   "id": "3229e008-af11-4685-9c9f-1420a0e66be3",
   "metadata": {},
   "source": [
    "# Intersection of both sets"
   ]
  },
  {
   "cell_type": "code",
   "execution_count": 4,
   "id": "b915db64-340e-4d9e-883f-cf4b993fcdbd",
   "metadata": {},
   "outputs": [
    {
     "name": "stdout",
     "output_type": "stream",
     "text": [
      "            SMI\n",
      "0  'C1CN2CC1C2'\n"
     ]
    }
   ],
   "source": [
    "intersection_df=pd.merge(entries_dft, entries_adc2, how='inner')\n",
    "print(intersection_df[['SMI']])"
   ]
  },
  {
   "cell_type": "code",
   "execution_count": null,
   "id": "045b427e-1457-430e-84e2-66d78c587a3d",
   "metadata": {},
   "outputs": [],
   "source": []
  }
 ],
 "metadata": {
  "kernelspec": {
   "display_name": "Python 3 (ipykernel)",
   "language": "python",
   "name": "python3"
  },
  "language_info": {
   "codemirror_mode": {
    "name": "ipython",
    "version": 3
   },
   "file_extension": ".py",
   "mimetype": "text/x-python",
   "name": "python",
   "nbconvert_exporter": "python",
   "pygments_lexer": "ipython3",
   "version": "3.10.12"
  }
 },
 "nbformat": 4,
 "nbformat_minor": 5
}
